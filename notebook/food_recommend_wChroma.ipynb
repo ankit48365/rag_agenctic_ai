{
 "cells": [
  {
   "cell_type": "markdown",
   "id": "22f36a87-a3a3-4df4-886b-25bb2a8e41cc",
   "metadata": {},
   "source": [
    "these should be available\n",
    "\n",
    "pip install numpy==2.3.1\n",
    "pip install scipy==1.16.0\n",
    "pip install chromadb==1.0.12\n",
    "pip install sentence-transformers==4.1.0\n",
    "pip install ibm-watsonx-ai==1.3.24\n"
   ]
  },
  {
   "cell_type": "markdown",
   "id": "23c7e1be-7c98-438e-b7ec-9b4e25956ebf",
   "metadata": {},
   "source": [
    "Anthropic LLM integration\n",
    "\n",
    "from langchain_anthropic import ChatAnthropic  # For Opus, Haiku, Claude 2/3 models\n",
    "\n",
    "from langchain.chains import RetrievalQA"
   ]
  },
  {
   "cell_type": "markdown",
   "id": "8aa22dc1-794e-4573-a921-25e9bd7f27d6",
   "metadata": {},
   "source": [
    "### Code"
   ]
  },
  {
   "cell_type": "code",
   "execution_count": 4,
   "id": "4dd34c2e-1253-495f-ae7a-c6736fa8a6b9",
   "metadata": {},
   "outputs": [],
   "source": [
    "import requests\n",
    "\n",
    "url = \"https://cf-courses-data.s3.us.cloud-object-storage.appdomain.cloud/sN1PIR8qp1SJ6K7syv72qQ/FoodDataSet.json\"\n",
    "response = requests.get(url)\n",
    "\n",
    "with open(\"FoodDataSet.json\", \"wb\") as f:\n",
    "    f.write(response.content)"
   ]
  },
  {
   "cell_type": "markdown",
   "id": "9bb98267-0ba5-4807-ad0d-c6a2ea5e087c",
   "metadata": {},
   "source": [
    "This dataset contains rich food information including:\n",
    "\n",
    "food_id: Unique identifier for each food item\n",
    "food_name: Name of the dish\n",
    "food_description: Detailed description of the food\n",
    "food_calories_per_serving: Caloric content per serving\n",
    "food_nutritional_factors: Breakdown of carbohydrates, protein, and fat\n",
    "food_ingredients: List of ingredients used\n",
    "food_health_benefits: Health benefits of the food\n",
    "cooking_method: How the food is prepared (baking, grilling, etc.)\n",
    "cuisine_type: Type of cuisine (American, Italian, etc.)\n",
    "food_features: Taste, texture, appearance, and serving details"
   ]
  },
  {
   "cell_type": "code",
   "execution_count": 5,
   "id": "762f77d5-22d0-4a2b-93a2-ac0d13b92cc5",
   "metadata": {},
   "outputs": [],
   "source": [
    "import chromadb\n",
    "from chromadb.utils import embedding_functions\n",
    "import json\n",
    "import re\n",
    "import numpy as np\n",
    "from typing import List, Dict, Any, Optional\n",
    "# Initialize ChromaDB client\n",
    "client = chromadb.Client()"
   ]
  },
  {
   "cell_type": "markdown",
   "id": "bf838046-5fb4-47ff-acb6-fabe99ef8dfb",
   "metadata": {},
   "source": [
    "#### Part 2 Task 1: C. Create the Data Loading Function\n"
   ]
  },
  {
   "cell_type": "code",
   "execution_count": null,
   "id": "2fc7889b-dd7a-49a1-bfa8-3b8585f86f87",
   "metadata": {},
   "outputs": [],
   "source": []
  }
 ],
 "metadata": {
  "kernelspec": {
   "display_name": "Python 3 (ipykernel)",
   "language": "python",
   "name": "python3"
  },
  "language_info": {
   "codemirror_mode": {
    "name": "ipython",
    "version": 3
   },
   "file_extension": ".py",
   "mimetype": "text/x-python",
   "name": "python",
   "nbconvert_exporter": "python",
   "pygments_lexer": "ipython3",
   "version": "3.12.10"
  }
 },
 "nbformat": 4,
 "nbformat_minor": 5
}
